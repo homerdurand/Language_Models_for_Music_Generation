{
 "cells": [
  {
   "cell_type": "code",
   "execution_count": 7,
   "metadata": {},
   "outputs": [],
   "source": [
    "#Data\n",
    "import pandas as pd\n",
    "#System\n",
    "from os import walk\n",
    "#Music Analysis\n",
    "import music21 as m21\n",
    "\n",
    "#Maths\n",
    "import numpy as np\n",
    "import itertools as it\n",
    "import random as rd\n",
    "\n",
    "#Encodage\n",
    "from sklearn.preprocessing import LabelEncoder\n",
    "from sklearn.preprocessing import OneHotEncoder\n",
    "\n",
    "import re\n",
    "\n",
    "m21.environment.set('musescoreDirectPNGPath', '/home/homer/Programmes/MuseScore-3.5.0-x86_64.AppImage')"
   ]
  },
  {
   "cell_type": "code",
   "execution_count": 8,
   "metadata": {},
   "outputs": [],
   "source": [
    "dirPath = \"data/midiclassics/Bach\"\n",
    "midiPiece = \"Bwv0526 Sonate en trio n2.mid\"\n",
    "midiPath = dirPath + \"/\" + midiPiece"
   ]
  },
  {
   "cell_type": "markdown",
   "metadata": {},
   "source": [
    "## Données sous forme de mots"
   ]
  },
  {
   "cell_type": "code",
   "execution_count": 1,
   "metadata": {},
   "outputs": [],
   "source": [
    "def transposeMidi(midi, key) :\n",
    "    k = midi.analyze('key')\n",
    "    i = m21.interval.Interval(k.tonic, m21.pitch.Pitch(key))\n",
    "    midiNew = midi.transpose(i)\n",
    "    return midiNew\n",
    "\n",
    "def chord2word(thisChord, durations=True) :\n",
    "    #retourne un mot à partir d'un accord\n",
    "    word = \"_\"\n",
    "    for note in thisChord :\n",
    "        word+=note.name+str(note.octave)+\"°\"+str(note.duration)[27:-1]+\"_\"\n",
    "    return word\n",
    "        \n",
    "def midi2sentence(midiPath, transpose = False) :\n",
    "    #retourne une phrase à partir d'un morceau\n",
    "    \n",
    "    midiTemp = m21.converter.parse(midiPath)\n",
    "    \n",
    "    #transposition\n",
    "    if transpose :\n",
    "        midi = transposeMidi(midiTemp, transpose)\n",
    "    else :\n",
    "        midi = midiTemp\n",
    "        \n",
    "    sentence = \"\"\n",
    "    \n",
    "    dictPitch = {}\n",
    "    for element in midi.recurse() :\n",
    "        if isinstance(element, m21.note.Note) :\n",
    "            if element.offset in dictPitch :\n",
    "                dictPitch[element.offset].append(element)\n",
    "            else :\n",
    "                dictPitch[element.offset]=[element]\n",
    "        if isinstance(element, m21.chord.Chord) :\n",
    "            for note in element :\n",
    "                if element.offset in dictPitch :\n",
    "                    dictPitch[element.offset].append(element)\n",
    "                else :\n",
    "                    dictPitch[element.offset]=[element]\n",
    "        \"\"\"if isinstance(element, m21.note.Rest) :\n",
    "            if element.offset in dictPitch :\n",
    "                dictPitch[element.offset].append(element)\n",
    "            else :\n",
    "                dictPitch[element.offset]=[element]\"\"\"\n",
    "    \n",
    "    for offset in sorted(dictPitch) :\n",
    "        thisChord = m21.chord.Chord(dictPitch[offset])\n",
    "        word = chord2word(thisChord)\n",
    "        sentence+=word+\" \"\n",
    "    \n",
    "    return sentence\n",
    "\n",
    "def sentence2midi(sentence) :\n",
    "    s = m21.stream.Stream()\n",
    "    for wordTemp in sentence.split(\" \") :\n",
    "        word = \"\"\n",
    "        d = m21.duration.Duration(2.0)\n",
    "        for letter in wordTemp.split(\".\") :\n",
    "            word+=letter+\" \"\n",
    "        thisChord=m21.chord.Chord(word[:-1], duration = d)\n",
    "        s.append(thisChord)\n",
    "    return s\n",
    "            \n",
    "    \n",
    "def token2sentence(token) :\n",
    "    sentence=\"\"\n",
    "    for word in sentence :\n",
    "        sentence+=word+\".\"\n",
    "    return sentence\n",
    "    \n",
    "\n",
    "def sentenceEncoding(sentence, order = \"character\") :\n",
    "    #retourne encodage one hot de la phrase, integer encode de la phrase et la taille du vocabulaire\n",
    "    #Ordre = chara ou word\n",
    "    if order == \"character\" :\n",
    "        token = sentence.split(\".\")\n",
    "    elif order == \"word\" :\n",
    "        token = sentence.split(\" \")\n",
    "        #A finir\n",
    "    \n",
    "    # integer encode\n",
    "    label_encoder = LabelEncoder()\n",
    "    integer_encoded = label_encoder.fit_transform(token)\n",
    "    # binary encode\n",
    "    onehot_encoder = OneHotEncoder(sparse=False)\n",
    "    integer_encoded = integer_encoded.reshape(len(integer_encoded), 1)\n",
    "    onehot_encoded = onehot_encoder.fit_transform(integer_encoded)\n",
    "    \n",
    "    vocabLength = int(max(integer_encoded))\n",
    "    return onehot_encoded, integer_encoded, vocabLength\n",
    "    \n",
    "\n",
    "    "
   ]
  },
  {
   "cell_type": "code",
   "execution_count": 10,
   "metadata": {},
   "outputs": [],
   "source": [
    "def convert_to_float(frac_str):\n",
    "    try:\n",
    "        return float(frac_str)\n",
    "    except ValueError:\n",
    "        num, denom = frac_str.split('/')\n",
    "        try:\n",
    "            leading, num = num.split(' ')\n",
    "            whole = float(leading)\n",
    "        except ValueError:\n",
    "            whole = 0\n",
    "        frac = float(num) / float(denom)\n",
    "        return whole - frac if whole < 0 else whole + frac\n",
    "\n",
    "def word2chord(word, duration = True) :\n",
    "    if \"Start\" in word :\n",
    "        word = word[6:-1]\n",
    "    elif \"End\" in word : \n",
    "        if len(word)==3 :\n",
    "            return False\n",
    "        word = word[1:-3]\n",
    "    else :\n",
    "        word = word[1:-1]\n",
    "        \n",
    "    chordTemp = []\n",
    "    for letter in word.split(\"_\") :\n",
    "        noteTemp, durationTemp = letter.split(\"°\")\n",
    "        duration = m21.duration.Duration(convert_to_float(durationTemp))\n",
    "        note = m21.note.Note(noteTemp, duration = duration)\n",
    "        chordTemp.append(note)\n",
    "    chord = m21.chord.Chord(chordTemp)\n",
    "    return chord\n",
    "\n",
    "def token2midi(token):\n",
    "    s = m21.stream.Stream()\n",
    "    flag = False\n",
    "    i=0\n",
    "    while i <len(token) :\n",
    "        chordTemp = []\n",
    "        while token[i] != \" \" and not(\"Start\" in token[i]) and not(\"End\" in token[i]) and i <len(token)-1 :\n",
    "            word = token[i]\n",
    "            flag = True\n",
    "            noteTemp, durationTemp = word.split(\"°\")\n",
    "            duration = m21.duration.Duration(convert_to_float(durationTemp))\n",
    "            note = m21.note.Note(noteTemp, duration = duration)\n",
    "            chordTemp.append(note)\n",
    "            i+=1\n",
    "        if flag :\n",
    "            chord = m21.chord.Chord(chordTemp)\n",
    "            s.append(chord)\n",
    "            flag = False\n",
    "        i+=1\n",
    "            \n",
    "    return s\n",
    "\n",
    "def sentence2midi(sentence) :\n",
    "    s = m21.stream.Stream()\n",
    "    for wordTemp in sentence.split(\" \")[5:-5] :\n",
    "        thisChord = word2chord(wordTemp)\n",
    "        if thisChord :#On vérifie que l'accord n'est pas vide\n",
    "            s.append(thisChord)\n",
    "    return s\n",
    "\n",
    "def token2sentence(token, order=\"character\", sepTime = False) :\n",
    "    sentence=\"\"\n",
    "    if order == \"character\" :\n",
    "        if sepTime :\n",
    "            \n",
    "                if \"Start\" in word :\n",
    "                    sentence+=word+\"_\"\n",
    "                elif \".\" in word : # C'est une durée\n",
    "                    sentence+=\"°\"+word+\"_\"\n",
    "                elif \" \" in word:# C'est un espace\n",
    "                    sentence+=word+\"_\"\n",
    "                else :\n",
    "                    sentence+=word\n",
    "        else :\n",
    "            for word in token :\n",
    "                sentence+=word+\"_\"\n",
    "        return sentence[:-1]\n",
    "    elif order == \"word\" :\n",
    "        for word in token :\n",
    "            sentence+=word+\" \"\n",
    "    return sentence[:-1]"
   ]
  },
  {
   "cell_type": "code",
   "execution_count": 16,
   "metadata": {},
   "outputs": [],
   "source": [
    "sentence = midi2sentence(midiPath)\n",
    "stream = sentence2midi(sentence)"
   ]
  },
  {
   "cell_type": "markdown",
   "metadata": {},
   "source": [
    "## Données matricielles"
   ]
  },
  {
   "cell_type": "code",
   "execution_count": 102,
   "metadata": {},
   "outputs": [],
   "source": [
    "def midi2matrix(midiPath) :\n",
    "    midi = m21.converter.parse(midiPath)\n",
    "    notes = midi.recurse()\n",
    "    pieceLength = int(notes[-1].offset*4)+4\n",
    "    matrix = np.zeros((127, pieceLength))\n",
    "    for element in midi.recurse() :\n",
    "        if isinstance(element, m21.note.Note) :\n",
    "            note_y = element.pitch.midi\n",
    "            note_x = int(element.offset*4)\n",
    "            noteValue = int(float(str(elm.duration)[27:-1])*4)\n",
    "            matrix[note_y, note_x]=noteValue\n",
    "        if isinstance(element, m21.chord.Chord) :\n",
    "            for note in element :\n",
    "                if isinstance(element, m21.note.Note) :\n",
    "                    note_y = element.pitch.midi\n",
    "                    note_x = int(element.offset*4)\n",
    "                    noteValue = int(float(str(elm.duration)[27:-1])*4)\n",
    "                    matrix[note_y, note_x]=noteValue   \n",
    "    return matrix, pieceLength\n",
    "\n",
    "def oneHotMatrix(matrix) :\n",
    "    matLength = len(matrix[0])\n",
    "    oneHotDict = {}\n",
    "    oneHotArray = []\n",
    "    i=0\n",
    "    for vec in matrix.T :#On observe la matrice colonne par colonne\n",
    "        if not(tuple(vec) in oneHotDict) :\n",
    "            oneHotDict[tuple(vec)]=i\n",
    "            i+=1\n",
    "            \n",
    "    for vec in matrix.T :\n",
    "        oneHotArray.append(oneHotDict[tuple(vec)])\n",
    "        \n",
    "    return oneHotArray, len(oneHotArray)\n",
    "    \n",
    "        \n",
    "    \n",
    "\n",
    "def matrix2midi(matrix):\n",
    "    \n",
    "    return"
   ]
  },
  {
   "cell_type": "markdown",
   "metadata": {},
   "source": [
    "## Base de données"
   ]
  },
  {
   "cell_type": "code",
   "execution_count": 103,
   "metadata": {},
   "outputs": [],
   "source": [
    "def musicDataBase(artists, myDirectory, transpose = False) :\n",
    "    print(\"Creating the musical data base...\\n\")\n",
    "    dictArtist = {}\n",
    "    i=0      #key of dict = index in df\n",
    "    \n",
    "    #Progress bar\n",
    "    length = 0\n",
    "    for (directory, subdirectory, files) in walk(myDirectory):\n",
    "        for artist in artists :\n",
    "            if artist in directory :\n",
    "                length+=len(files)\n",
    "    ind = 1      #number of file explored\n",
    "    print(\"/!\\ : \" +str(length)+\" files are going to be reducted in the dataFrame, this might take a bit of time...\\n\")\n",
    "       \n",
    "    for artist in artists :\n",
    "        print(\"## ------ \" + artist + \" pieces are loading... ----- ##\\n\")\n",
    "        for (directory, subdirectory, files) in walk(myDirectory):\n",
    "            for file in files :\n",
    "                if artist in directory :\n",
    "                    ind+=1\n",
    "                    if file[0]!=\".\" :\n",
    "                        print(\"loading \" + file + \"... \" + str(ind/length*100) + \"%\")\n",
    "                        try:\n",
    "                            sentence = midi2sentence(directory+\"/\"+file, transpose = transpose)\n",
    "                            dictArtist[i]=[artist, file, sentence]\n",
    "                            i+=1\n",
    "                        except Exception as e:\n",
    "                            print(\"Error on {0}\".format(file), e)\n",
    "                            print(\"\\n\")\n",
    "        \n",
    "    print(\"Success !\")\n",
    "    return pd.DataFrame(dictArtist, index = [\"Artist\", \"File\", \"Piece\"]).T"
   ]
  },
  {
   "cell_type": "code",
   "execution_count": 104,
   "metadata": {},
   "outputs": [
    {
     "name": "stdout",
     "output_type": "stream",
     "text": [
      "Creating the musical data base...\n",
      "\n",
      "/!\\ : 2 files are going to be reducted in the dataFrame, this might take a bit of time...\n",
      "\n",
      "## ------ Test2 pieces are loading... ----- ##\n",
      "\n",
      "loading keithkoln.mid... 150.0%\n",
      "Success !\n"
     ]
    }
   ],
   "source": [
    "artists = [\"Bach\", \"Mozart\", \"Chopin\", \"Schubert\", \"Beethoven\", \"Haydn\"]\n",
    "myDirectory = \"midiclassics\"\n",
    "db = musicDataBase([\"Test2\"], myDirectory, \"C\")\n",
    "db.to_pickle(\"keithKoln.pkl\")"
   ]
  },
  {
   "cell_type": "code",
   "execution_count": 12,
   "metadata": {
    "scrolled": true
   },
   "outputs": [
    {
     "data": {
      "image/png": "[encoded data removed]",
      "text/plain": [
       "<IPython.core.display.Image object>"
      ]
     },
     "metadata": {
      "image/png": {
       "height": 73,
       "width": 324
      }
     },
     "output_type": "display_data"
    }
   ],
   "source": [
    "s = m21.stream.Stream()\n",
    "c4 = m21.note.Note(\"C4\", duration = m21.duration.Duration(1))\n",
    "eb5 = m21.note.Note(\"E-5\", duration = m21.duration.Duration(0.5))\n",
    "g4 = m21.note.Note(\"G4\", duration = m21.duration.Duration(1))\n",
    "chord1 = m21.chord.Chord([c4, eb5, g4])\n",
    "s.append(chord1)\n",
    "s[0].addLyric(\"_C4°1_E-5°0.5_G4°1_\")\n",
    "s.show()"
   ]
  },
  {
   "cell_type": "code",
   "execution_count": 6,
   "metadata": {},
   "outputs": [
    {
     "ename": "AttributeError",
     "evalue": "'DataFrame' object has no attribute '_data'",
     "output_type": "error",
     "traceback": [
      "\u001b[0;31m---------------------------------------------------------------------------\u001b[0m",
      "\u001b[0;31mAttributeError\u001b[0m                            Traceback (most recent call last)",
      "\u001b[0;32m~/anaconda3/lib/python3.8/site-packages/IPython/core/formatters.py\u001b[0m in \u001b[0;36m__call__\u001b[0;34m(self, obj)\u001b[0m\n\u001b[1;32m    700\u001b[0m                 \u001b[0mtype_pprinters\u001b[0m\u001b[0;34m=\u001b[0m\u001b[0mself\u001b[0m\u001b[0;34m.\u001b[0m\u001b[0mtype_printers\u001b[0m\u001b[0;34m,\u001b[0m\u001b[0;34m\u001b[0m\u001b[0;34m\u001b[0m\u001b[0m\n\u001b[1;32m    701\u001b[0m                 deferred_pprinters=self.deferred_printers)\n\u001b[0;32m--> 702\u001b[0;31m             \u001b[0mprinter\u001b[0m\u001b[0;34m.\u001b[0m\u001b[0mpretty\u001b[0m\u001b[0;34m(\u001b[0m\u001b[0mobj\u001b[0m\u001b[0;34m)\u001b[0m\u001b[0;34m\u001b[0m\u001b[0;34m\u001b[0m\u001b[0m\n\u001b[0m\u001b[1;32m    703\u001b[0m             \u001b[0mprinter\u001b[0m\u001b[0;34m.\u001b[0m\u001b[0mflush\u001b[0m\u001b[0;34m(\u001b[0m\u001b[0;34m)\u001b[0m\u001b[0;34m\u001b[0m\u001b[0;34m\u001b[0m\u001b[0m\n\u001b[1;32m    704\u001b[0m             \u001b[0;32mreturn\u001b[0m \u001b[0mstream\u001b[0m\u001b[0;34m.\u001b[0m\u001b[0mgetvalue\u001b[0m\u001b[0;34m(\u001b[0m\u001b[0;34m)\u001b[0m\u001b[0;34m\u001b[0m\u001b[0;34m\u001b[0m\u001b[0m\n",
      "\u001b[0;32m~/anaconda3/lib/python3.8/site-packages/IPython/lib/pretty.py\u001b[0m in \u001b[0;36mpretty\u001b[0;34m(self, obj)\u001b[0m\n\u001b[1;32m    392\u001b[0m                         \u001b[0;32mif\u001b[0m \u001b[0mcls\u001b[0m \u001b[0;32mis\u001b[0m \u001b[0;32mnot\u001b[0m \u001b[0mobject\u001b[0m\u001b[0;31m \u001b[0m\u001b[0;31m\\\u001b[0m\u001b[0;34m\u001b[0m\u001b[0;34m\u001b[0m\u001b[0m\n\u001b[1;32m    393\u001b[0m                                 \u001b[0;32mand\u001b[0m \u001b[0mcallable\u001b[0m\u001b[0;34m(\u001b[0m\u001b[0mcls\u001b[0m\u001b[0;34m.\u001b[0m\u001b[0m__dict__\u001b[0m\u001b[0;34m.\u001b[0m\u001b[0mget\u001b[0m\u001b[0;34m(\u001b[0m\u001b[0;34m'__repr__'\u001b[0m\u001b[0;34m)\u001b[0m\u001b[0;34m)\u001b[0m\u001b[0;34m:\u001b[0m\u001b[0;34m\u001b[0m\u001b[0;34m\u001b[0m\u001b[0m\n\u001b[0;32m--> 394\u001b[0;31m                             \u001b[0;32mreturn\u001b[0m \u001b[0m_repr_pprint\u001b[0m\u001b[0;34m(\u001b[0m\u001b[0mobj\u001b[0m\u001b[0;34m,\u001b[0m \u001b[0mself\u001b[0m\u001b[0;34m,\u001b[0m \u001b[0mcycle\u001b[0m\u001b[0;34m)\u001b[0m\u001b[0;34m\u001b[0m\u001b[0;34m\u001b[0m\u001b[0m\n\u001b[0m\u001b[1;32m    395\u001b[0m \u001b[0;34m\u001b[0m\u001b[0m\n\u001b[1;32m    396\u001b[0m             \u001b[0;32mreturn\u001b[0m \u001b[0m_default_pprint\u001b[0m\u001b[0;34m(\u001b[0m\u001b[0mobj\u001b[0m\u001b[0;34m,\u001b[0m \u001b[0mself\u001b[0m\u001b[0;34m,\u001b[0m \u001b[0mcycle\u001b[0m\u001b[0;34m)\u001b[0m\u001b[0;34m\u001b[0m\u001b[0;34m\u001b[0m\u001b[0m\n",
      "\u001b[0;32m~/anaconda3/lib/python3.8/site-packages/IPython/lib/pretty.py\u001b[0m in \u001b[0;36m_repr_pprint\u001b[0;34m(obj, p, cycle)\u001b[0m\n\u001b[1;32m    698\u001b[0m     \u001b[0;34m\"\"\"A pprint that just redirects to the normal repr function.\"\"\"\u001b[0m\u001b[0;34m\u001b[0m\u001b[0;34m\u001b[0m\u001b[0m\n\u001b[1;32m    699\u001b[0m     \u001b[0;31m# Find newlines and replace them with p.break_()\u001b[0m\u001b[0;34m\u001b[0m\u001b[0;34m\u001b[0m\u001b[0;34m\u001b[0m\u001b[0m\n\u001b[0;32m--> 700\u001b[0;31m     \u001b[0moutput\u001b[0m \u001b[0;34m=\u001b[0m \u001b[0mrepr\u001b[0m\u001b[0;34m(\u001b[0m\u001b[0mobj\u001b[0m\u001b[0;34m)\u001b[0m\u001b[0;34m\u001b[0m\u001b[0;34m\u001b[0m\u001b[0m\n\u001b[0m\u001b[1;32m    701\u001b[0m     \u001b[0mlines\u001b[0m \u001b[0;34m=\u001b[0m \u001b[0moutput\u001b[0m\u001b[0;34m.\u001b[0m\u001b[0msplitlines\u001b[0m\u001b[0;34m(\u001b[0m\u001b[0;34m)\u001b[0m\u001b[0;34m\u001b[0m\u001b[0;34m\u001b[0m\u001b[0m\n\u001b[1;32m    702\u001b[0m     \u001b[0;32mwith\u001b[0m \u001b[0mp\u001b[0m\u001b[0;34m.\u001b[0m\u001b[0mgroup\u001b[0m\u001b[0;34m(\u001b[0m\u001b[0;34m)\u001b[0m\u001b[0;34m:\u001b[0m\u001b[0;34m\u001b[0m\u001b[0;34m\u001b[0m\u001b[0m\n",
      "\u001b[0;32m~/anaconda3/lib/python3.8/site-packages/pandas/core/frame.py\u001b[0m in \u001b[0;36m__repr__\u001b[0;34m(self)\u001b[0m\n\u001b[1;32m    678\u001b[0m         \u001b[0;32melse\u001b[0m\u001b[0;34m:\u001b[0m\u001b[0;34m\u001b[0m\u001b[0;34m\u001b[0m\u001b[0m\n\u001b[1;32m    679\u001b[0m             \u001b[0mwidth\u001b[0m \u001b[0;34m=\u001b[0m \u001b[0;32mNone\u001b[0m\u001b[0;34m\u001b[0m\u001b[0;34m\u001b[0m\u001b[0m\n\u001b[0;32m--> 680\u001b[0;31m         self.to_string(\n\u001b[0m\u001b[1;32m    681\u001b[0m             \u001b[0mbuf\u001b[0m\u001b[0;34m=\u001b[0m\u001b[0mbuf\u001b[0m\u001b[0;34m,\u001b[0m\u001b[0;34m\u001b[0m\u001b[0;34m\u001b[0m\u001b[0m\n\u001b[1;32m    682\u001b[0m             \u001b[0mmax_rows\u001b[0m\u001b[0;34m=\u001b[0m\u001b[0mmax_rows\u001b[0m\u001b[0;34m,\u001b[0m\u001b[0;34m\u001b[0m\u001b[0;34m\u001b[0m\u001b[0m\n",
      "\u001b[0;32m~/anaconda3/lib/python3.8/site-packages/pandas/core/frame.py\u001b[0m in \u001b[0;36mto_string\u001b[0;34m(self, buf, columns, col_space, header, index, na_rep, formatters, float_format, sparsify, index_names, justify, max_rows, min_rows, max_cols, show_dimensions, decimal, line_width, max_colwidth, encoding)\u001b[0m\n\u001b[1;32m    799\u001b[0m \u001b[0;34m\u001b[0m\u001b[0m\n\u001b[1;32m    800\u001b[0m         \u001b[0;32mwith\u001b[0m \u001b[0moption_context\u001b[0m\u001b[0;34m(\u001b[0m\u001b[0;34m\"display.max_colwidth\"\u001b[0m\u001b[0;34m,\u001b[0m \u001b[0mmax_colwidth\u001b[0m\u001b[0;34m)\u001b[0m\u001b[0;34m:\u001b[0m\u001b[0;34m\u001b[0m\u001b[0;34m\u001b[0m\u001b[0m\n\u001b[0;32m--> 801\u001b[0;31m             formatter = fmt.DataFrameFormatter(\n\u001b[0m\u001b[1;32m    802\u001b[0m                 \u001b[0mself\u001b[0m\u001b[0;34m,\u001b[0m\u001b[0;34m\u001b[0m\u001b[0;34m\u001b[0m\u001b[0m\n\u001b[1;32m    803\u001b[0m                 \u001b[0mcolumns\u001b[0m\u001b[0;34m=\u001b[0m\u001b[0mcolumns\u001b[0m\u001b[0;34m,\u001b[0m\u001b[0;34m\u001b[0m\u001b[0;34m\u001b[0m\u001b[0m\n",
      "\u001b[0;32m~/anaconda3/lib/python3.8/site-packages/pandas/io/formats/format.py\u001b[0m in \u001b[0;36m__init__\u001b[0;34m(self, frame, columns, col_space, header, index, na_rep, formatters, justify, float_format, sparsify, index_names, line_width, max_rows, min_rows, max_cols, show_dimensions, decimal, table_id, render_links, bold_rows, escape)\u001b[0m\n\u001b[1;32m    591\u001b[0m         \u001b[0mself\u001b[0m\u001b[0;34m.\u001b[0m\u001b[0mmin_rows\u001b[0m \u001b[0;34m=\u001b[0m \u001b[0mmin_rows\u001b[0m\u001b[0;34m\u001b[0m\u001b[0;34m\u001b[0m\u001b[0m\n\u001b[1;32m    592\u001b[0m         \u001b[0mself\u001b[0m\u001b[0;34m.\u001b[0m\u001b[0mmax_cols\u001b[0m \u001b[0;34m=\u001b[0m \u001b[0mmax_cols\u001b[0m\u001b[0;34m\u001b[0m\u001b[0;34m\u001b[0m\u001b[0m\n\u001b[0;32m--> 593\u001b[0;31m         \u001b[0mself\u001b[0m\u001b[0;34m.\u001b[0m\u001b[0mmax_rows_displayed\u001b[0m \u001b[0;34m=\u001b[0m \u001b[0mmin\u001b[0m\u001b[0;34m(\u001b[0m\u001b[0mmax_rows\u001b[0m \u001b[0;32mor\u001b[0m \u001b[0mlen\u001b[0m\u001b[0;34m(\u001b[0m\u001b[0mself\u001b[0m\u001b[0;34m.\u001b[0m\u001b[0mframe\u001b[0m\u001b[0;34m)\u001b[0m\u001b[0;34m,\u001b[0m \u001b[0mlen\u001b[0m\u001b[0;34m(\u001b[0m\u001b[0mself\u001b[0m\u001b[0;34m.\u001b[0m\u001b[0mframe\u001b[0m\u001b[0;34m)\u001b[0m\u001b[0;34m)\u001b[0m\u001b[0;34m\u001b[0m\u001b[0;34m\u001b[0m\u001b[0m\n\u001b[0m\u001b[1;32m    594\u001b[0m         \u001b[0mself\u001b[0m\u001b[0;34m.\u001b[0m\u001b[0mshow_dimensions\u001b[0m \u001b[0;34m=\u001b[0m \u001b[0mshow_dimensions\u001b[0m\u001b[0;34m\u001b[0m\u001b[0;34m\u001b[0m\u001b[0m\n\u001b[1;32m    595\u001b[0m         \u001b[0mself\u001b[0m\u001b[0;34m.\u001b[0m\u001b[0mtable_id\u001b[0m \u001b[0;34m=\u001b[0m \u001b[0mtable_id\u001b[0m\u001b[0;34m\u001b[0m\u001b[0;34m\u001b[0m\u001b[0m\n",
      "\u001b[0;32m~/anaconda3/lib/python3.8/site-packages/pandas/core/frame.py\u001b[0m in \u001b[0;36m__len__\u001b[0;34m(self)\u001b[0m\n\u001b[1;32m   1039\u001b[0m         \u001b[0mReturns\u001b[0m \u001b[0mlength\u001b[0m \u001b[0mof\u001b[0m \u001b[0minfo\u001b[0m \u001b[0maxis\u001b[0m\u001b[0;34m,\u001b[0m \u001b[0mbut\u001b[0m \u001b[0mhere\u001b[0m \u001b[0mwe\u001b[0m \u001b[0muse\u001b[0m \u001b[0mthe\u001b[0m \u001b[0mindex\u001b[0m\u001b[0;34m.\u001b[0m\u001b[0;34m\u001b[0m\u001b[0;34m\u001b[0m\u001b[0m\n\u001b[1;32m   1040\u001b[0m         \"\"\"\n\u001b[0;32m-> 1041\u001b[0;31m         \u001b[0;32mreturn\u001b[0m \u001b[0mlen\u001b[0m\u001b[0;34m(\u001b[0m\u001b[0mself\u001b[0m\u001b[0;34m.\u001b[0m\u001b[0mindex\u001b[0m\u001b[0;34m)\u001b[0m\u001b[0;34m\u001b[0m\u001b[0;34m\u001b[0m\u001b[0m\n\u001b[0m\u001b[1;32m   1042\u001b[0m \u001b[0;34m\u001b[0m\u001b[0m\n\u001b[1;32m   1043\u001b[0m     \u001b[0;32mdef\u001b[0m \u001b[0mdot\u001b[0m\u001b[0;34m(\u001b[0m\u001b[0mself\u001b[0m\u001b[0;34m,\u001b[0m \u001b[0mother\u001b[0m\u001b[0;34m)\u001b[0m\u001b[0;34m:\u001b[0m\u001b[0;34m\u001b[0m\u001b[0;34m\u001b[0m\u001b[0m\n",
      "\u001b[0;32m~/anaconda3/lib/python3.8/site-packages/pandas/core/generic.py\u001b[0m in \u001b[0;36m__getattr__\u001b[0;34m(self, name)\u001b[0m\n\u001b[1;32m   5268\u001b[0m             \u001b[0;32mor\u001b[0m \u001b[0mname\u001b[0m \u001b[0;32min\u001b[0m \u001b[0mself\u001b[0m\u001b[0;34m.\u001b[0m\u001b[0m_accessors\u001b[0m\u001b[0;34m\u001b[0m\u001b[0;34m\u001b[0m\u001b[0m\n\u001b[1;32m   5269\u001b[0m         ):\n\u001b[0;32m-> 5270\u001b[0;31m             \u001b[0;32mreturn\u001b[0m \u001b[0mobject\u001b[0m\u001b[0;34m.\u001b[0m\u001b[0m__getattribute__\u001b[0m\u001b[0;34m(\u001b[0m\u001b[0mself\u001b[0m\u001b[0;34m,\u001b[0m \u001b[0mname\u001b[0m\u001b[0;34m)\u001b[0m\u001b[0;34m\u001b[0m\u001b[0;34m\u001b[0m\u001b[0m\n\u001b[0m\u001b[1;32m   5271\u001b[0m         \u001b[0;32melse\u001b[0m\u001b[0;34m:\u001b[0m\u001b[0;34m\u001b[0m\u001b[0;34m\u001b[0m\u001b[0m\n\u001b[1;32m   5272\u001b[0m             \u001b[0;32mif\u001b[0m \u001b[0mself\u001b[0m\u001b[0;34m.\u001b[0m\u001b[0m_info_axis\u001b[0m\u001b[0;34m.\u001b[0m\u001b[0m_can_hold_identifiers_and_holds_name\u001b[0m\u001b[0;34m(\u001b[0m\u001b[0mname\u001b[0m\u001b[0;34m)\u001b[0m\u001b[0;34m:\u001b[0m\u001b[0;34m\u001b[0m\u001b[0;34m\u001b[0m\u001b[0m\n",
      "\u001b[0;32mpandas/_libs/properties.pyx\u001b[0m in \u001b[0;36mpandas._libs.properties.AxisProperty.__get__\u001b[0;34m()\u001b[0m\n",
      "\u001b[0;32m~/anaconda3/lib/python3.8/site-packages/pandas/core/generic.py\u001b[0m in \u001b[0;36m__getattr__\u001b[0;34m(self, name)\u001b[0m\n\u001b[1;32m   5268\u001b[0m             \u001b[0;32mor\u001b[0m \u001b[0mname\u001b[0m \u001b[0;32min\u001b[0m \u001b[0mself\u001b[0m\u001b[0;34m.\u001b[0m\u001b[0m_accessors\u001b[0m\u001b[0;34m\u001b[0m\u001b[0;34m\u001b[0m\u001b[0m\n\u001b[1;32m   5269\u001b[0m         ):\n\u001b[0;32m-> 5270\u001b[0;31m             \u001b[0;32mreturn\u001b[0m \u001b[0mobject\u001b[0m\u001b[0;34m.\u001b[0m\u001b[0m__getattribute__\u001b[0m\u001b[0;34m(\u001b[0m\u001b[0mself\u001b[0m\u001b[0;34m,\u001b[0m \u001b[0mname\u001b[0m\u001b[0;34m)\u001b[0m\u001b[0;34m\u001b[0m\u001b[0;34m\u001b[0m\u001b[0m\n\u001b[0m\u001b[1;32m   5271\u001b[0m         \u001b[0;32melse\u001b[0m\u001b[0;34m:\u001b[0m\u001b[0;34m\u001b[0m\u001b[0;34m\u001b[0m\u001b[0m\n\u001b[1;32m   5272\u001b[0m             \u001b[0;32mif\u001b[0m \u001b[0mself\u001b[0m\u001b[0;34m.\u001b[0m\u001b[0m_info_axis\u001b[0m\u001b[0;34m.\u001b[0m\u001b[0m_can_hold_identifiers_and_holds_name\u001b[0m\u001b[0;34m(\u001b[0m\u001b[0mname\u001b[0m\u001b[0;34m)\u001b[0m\u001b[0;34m:\u001b[0m\u001b[0;34m\u001b[0m\u001b[0;34m\u001b[0m\u001b[0m\n",
      "\u001b[0;31mAttributeError\u001b[0m: 'DataFrame' object has no attribute '_data'"
     ]
    }
   ],
   "source": []
  },
  {
   "cell_type": "code",
   "execution_count": 35,
   "metadata": {},
   "outputs": [],
   "source": [
    "testset = set()"
   ]
  },
  {
   "cell_type": "code",
   "execution_count": 36,
   "metadata": {},
   "outputs": [],
   "source": [
    "testset.add('bcd')\n",
    "testset.add('abd')"
   ]
  },
  {
   "cell_type": "code",
   "execution_count": 37,
   "metadata": {},
   "outputs": [
    {
     "data": {
      "text/plain": [
       "['abd', 'bcd']"
      ]
     },
     "execution_count": 37,
     "metadata": {},
     "output_type": "execute_result"
    }
   ],
   "source": [
    "list(testset)"
   ]
  },
  {
   "cell_type": "code",
   "execution_count": null,
   "metadata": {},
   "outputs": [],
   "source": []
  }
 ],
 "metadata": {
  "kernelspec": {
   "display_name": "Python 3",
   "language": "python",
   "name": "python3"
  },
  "language_info": {
   "codemirror_mode": {
    "name": "ipython",
    "version": 3
   },
   "file_extension": ".py",
   "mimetype": "text/x-python",
   "name": "python",
   "nbconvert_exporter": "python",
   "pygments_lexer": "ipython3",
   "version": "3.8.3"
  }
 },
 "nbformat": 4,
 "nbformat_minor": 4
}
