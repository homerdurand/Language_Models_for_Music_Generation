{
 "cells": [
  {
   "cell_type": "code",
   "execution_count": 5,
   "metadata": {},
   "outputs": [],
   "source": [
    "library(\"RcppCNPy\")\n",
    "imat <- npyLoad(\"data/encodedChorales.npy\")"
   ]
  },
  {
   "cell_type": "code",
   "execution_count": 8,
   "metadata": {},
   "outputs": [],
   "source": [
    "library(reticulate)\n",
    "pd <- import(\"pandas\")\n",
    "pickle_data <- pd$read_pickle(\"data/choralsMelodies.pkl\")"
   ]
  },
  {
   "cell_type": "code",
   "execution_count": 11,
   "metadata": {},
   "outputs": [
    {
     "ename": "ERROR",
     "evalue": "Error in parse(text = x, srcfile = src): <text>:1:13: unexpected ':'\n1: pickle_data[:\n                ^\n",
     "output_type": "error",
     "traceback": [
      "Error in parse(text = x, srcfile = src): <text>:1:13: unexpected ':'\n1: pickle_data[:\n                ^\nTraceback:\n"
     ]
    }
   ],
   "source": [
    "pickle_data"
   ]
  },
  {
   "cell_type": "code",
   "execution_count": 2,
   "metadata": {},
   "outputs": [
    {
     "data": {
      "text/html": [
       "<style>\n",
       ".list-inline {list-style: none; margin:0; padding: 0}\n",
       ".list-inline>li {display: inline-block}\n",
       ".list-inline>li:not(:last-child)::after {content: \"\\00b7\"; padding: 0 .5ex}\n",
       "</style>\n",
       "<ol class=list-inline><li>65</li><li>129</li><li>67</li><li>69</li><li>70</li><li>72</li><li>74</li><li>76</li><li>77</li><li>128</li><li>64</li><li>62</li><li>71</li><li>66</li><li>68</li><li>73</li><li>75</li><li>79</li><li>78</li><li>81</li><li>63</li><li>60</li><li>59</li><li>57</li><li>55</li><li>48</li><li>80</li><li>83</li><li>84</li><li>61</li><li>82</li><li>54</li><li>50</li><li>56</li></ol>\n"
      ],
      "text/latex": [
       "\\begin{enumerate*}\n",
       "\\item 65\n",
       "\\item 129\n",
       "\\item 67\n",
       "\\item 69\n",
       "\\item 70\n",
       "\\item 72\n",
       "\\item 74\n",
       "\\item 76\n",
       "\\item 77\n",
       "\\item 128\n",
       "\\item 64\n",
       "\\item 62\n",
       "\\item 71\n",
       "\\item 66\n",
       "\\item 68\n",
       "\\item 73\n",
       "\\item 75\n",
       "\\item 79\n",
       "\\item 78\n",
       "\\item 81\n",
       "\\item 63\n",
       "\\item 60\n",
       "\\item 59\n",
       "\\item 57\n",
       "\\item 55\n",
       "\\item 48\n",
       "\\item 80\n",
       "\\item 83\n",
       "\\item 84\n",
       "\\item 61\n",
       "\\item 82\n",
       "\\item 54\n",
       "\\item 50\n",
       "\\item 56\n",
       "\\end{enumerate*}\n"
      ],
      "text/markdown": [
       "1. 65\n",
       "2. 129\n",
       "3. 67\n",
       "4. 69\n",
       "5. 70\n",
       "6. 72\n",
       "7. 74\n",
       "8. 76\n",
       "9. 77\n",
       "10. 128\n",
       "11. 64\n",
       "12. 62\n",
       "13. 71\n",
       "14. 66\n",
       "15. 68\n",
       "16. 73\n",
       "17. 75\n",
       "18. 79\n",
       "19. 78\n",
       "20. 81\n",
       "21. 63\n",
       "22. 60\n",
       "23. 59\n",
       "24. 57\n",
       "25. 55\n",
       "26. 48\n",
       "27. 80\n",
       "28. 83\n",
       "29. 84\n",
       "30. 61\n",
       "31. 82\n",
       "32. 54\n",
       "33. 50\n",
       "34. 56\n",
       "\n",
       "\n"
      ],
      "text/plain": [
       " [1]  65 129  67  69  70  72  74  76  77 128  64  62  71  66  68  73  75  79  78\n",
       "[20]  81  63  60  59  57  55  48  80  83  84  61  82  54  50  56"
      ]
     },
     "metadata": {},
     "output_type": "display_data"
    }
   ],
   "source": [
    "firstLine = imat[1,]\n",
    "unique(firstLine)"
   ]
  },
  {
   "cell_type": "code",
   "execution_count": 4,
   "metadata": {},
   "outputs": [
    {
     "name": "stdout",
     "output_type": "stream",
     "text": [
      "$States\n",
      "[1] \"A\" \"B\"\n",
      "\n",
      "$Symbols\n",
      " [1]  65 129  67  69  70  72  74  76  77 128  64  62  71  66  68  73  75  79  78\n",
      "[20]  81  63  60  59  57  55  48  80  83  84  61  82  54  50  56\n",
      "\n",
      "$startProbs\n",
      "  A   B \n",
      "0.5 0.5 \n",
      "\n",
      "$transProbs\n",
      "    to\n",
      "from    A    B\n",
      "   A 0.75 0.25\n",
      "   B 0.25 0.75\n",
      "\n",
      "$emissionProbs\n",
      "      symbols\n",
      "states         65        129         67         69         70         72\n",
      "     A 0.02941176 0.02941176 0.02941176 0.02941176 0.02941176 0.02941176\n",
      "     B 0.02941176 0.02941176 0.02941176 0.02941176 0.02941176 0.02941176\n",
      "      symbols\n",
      "states         74         76         77        128         64         62\n",
      "     A 0.02941176 0.02941176 0.02941176 0.02941176 0.02941176 0.02941176\n",
      "     B 0.02941176 0.02941176 0.02941176 0.02941176 0.02941176 0.02941176\n",
      "      symbols\n",
      "states         71         66         68         73         75         79\n",
      "     A 0.02941176 0.02941176 0.02941176 0.02941176 0.02941176 0.02941176\n",
      "     B 0.02941176 0.02941176 0.02941176 0.02941176 0.02941176 0.02941176\n",
      "      symbols\n",
      "states         78         81         63         60         59         57\n",
      "     A 0.02941176 0.02941176 0.02941176 0.02941176 0.02941176 0.02941176\n",
      "     B 0.02941176 0.02941176 0.02941176 0.02941176 0.02941176 0.02941176\n",
      "      symbols\n",
      "states         55         48         80         83         84         61\n",
      "     A 0.02941176 0.02941176 0.02941176 0.02941176 0.02941176 0.02941176\n",
      "     B 0.02941176 0.02941176 0.02941176 0.02941176 0.02941176 0.02941176\n",
      "      symbols\n",
      "states         82         54         50         56\n",
      "     A 0.02941176 0.02941176 0.02941176 0.02941176\n",
      "     B 0.02941176 0.02941176 0.02941176 0.02941176\n",
      "\n"
     ]
    },
    {
     "ename": "ERROR",
     "evalue": "Error in hmm$emissionProbs[state, observation[1]]: subscript out of bounds\n",
     "output_type": "error",
     "traceback": [
      "Error in hmm$emissionProbs[state, observation[1]]: subscript out of bounds\nTraceback:\n",
      "1. baumWelch(hmm, observation, 10)",
      "2. baumWelchRecursion(tempHmm, observation)",
      "3. forward(hmm, observation)"
     ]
    }
   ],
   "source": [
    "library(\"HMM\")\n",
    "# Initial HMM\n",
    "hmm = initHMM(c(\"A\",\"B\"),unique(firstLine))\n",
    "print(hmm)\n",
    "# Sequence of observation\n",
    "observation = firstLine\n",
    "#print(observation)\n",
    "#Baum-Welch\n",
    "bw = baumWelch(hmm,observation,10)\n",
    "#print(bw$hmm)\n"
   ]
  },
  {
   "cell_type": "code",
   "execution_count": 120,
   "metadata": {},
   "outputs": [
    {
     "data": {
      "text/html": [
       "65"
      ],
      "text/latex": [
       "65"
      ],
      "text/markdown": [
       "65"
      ],
      "text/plain": [
       "[1] 65"
      ]
     },
     "metadata": {},
     "output_type": "display_data"
    }
   ],
   "source": [
    "observation[1]"
   ]
  },
  {
   "cell_type": "code",
   "execution_count": 72,
   "metadata": {},
   "outputs": [
    {
     "data": {
      "text/html": [
       "<strong>$observation</strong> = <style>\n",
       ".list-inline {list-style: none; margin:0; padding: 0}\n",
       ".list-inline>li {display: inline-block}\n",
       ".list-inline>li:not(:last-child)::after {content: \"\\00b7\"; padding: 0 .5ex}\n",
       "</style>\n",
       "<ol class=list-inline><li>72</li><li>82</li><li>77</li><li>80</li><li>69</li><li>65</li><li>80</li><li>72</li><li>61</li><li>48</li><li>78</li><li>75</li><li>67</li><li>62</li><li>81</li><li>60</li><li>60</li><li>83</li><li>76</li><li>57</li><li>57</li><li>67</li><li>70</li><li>75</li><li>73</li><li>72</li><li>74</li><li>59</li><li>61</li><li>74</li><li>50</li><li>73</li><li>80</li><li>76</li><li>56</li><li>71</li><li>81</li><li>78</li><li>61</li><li>70</li><li>82</li><li>76</li><li>63</li><li>64</li><li>80</li><li>50</li><li>76</li><li>77</li><li>84</li><li>66</li><li>59</li><li>56</li><li>57</li><li>70</li><li>61</li><li>75</li><li>79</li><li>80</li><li>77</li><li>59</li><li>73</li><li>79</li><li>67</li><li>63</li><li>128</li><li>67</li><li>55</li><li>72</li><li>70</li><li>129</li><li>59</li><li>76</li><li>69</li><li>78</li><li>74</li><li>76</li><li>63</li><li>75</li><li>64</li><li>74</li><li>70</li><li>82</li><li>79</li><li>129</li><li>69</li><li>84</li><li>63</li><li>78</li><li>61</li><li>83</li><li>63</li><li>79</li><li>69</li><li>69</li><li>76</li><li>74</li><li>72</li><li>73</li><li>63</li><li>65</li></ol>\n"
      ],
      "text/latex": [
       "\\textbf{\\$observation} = \\begin{enumerate*}\n",
       "\\item 72\n",
       "\\item 82\n",
       "\\item 77\n",
       "\\item 80\n",
       "\\item 69\n",
       "\\item 65\n",
       "\\item 80\n",
       "\\item 72\n",
       "\\item 61\n",
       "\\item 48\n",
       "\\item 78\n",
       "\\item 75\n",
       "\\item 67\n",
       "\\item 62\n",
       "\\item 81\n",
       "\\item 60\n",
       "\\item 60\n",
       "\\item 83\n",
       "\\item 76\n",
       "\\item 57\n",
       "\\item 57\n",
       "\\item 67\n",
       "\\item 70\n",
       "\\item 75\n",
       "\\item 73\n",
       "\\item 72\n",
       "\\item 74\n",
       "\\item 59\n",
       "\\item 61\n",
       "\\item 74\n",
       "\\item 50\n",
       "\\item 73\n",
       "\\item 80\n",
       "\\item 76\n",
       "\\item 56\n",
       "\\item 71\n",
       "\\item 81\n",
       "\\item 78\n",
       "\\item 61\n",
       "\\item 70\n",
       "\\item 82\n",
       "\\item 76\n",
       "\\item 63\n",
       "\\item 64\n",
       "\\item 80\n",
       "\\item 50\n",
       "\\item 76\n",
       "\\item 77\n",
       "\\item 84\n",
       "\\item 66\n",
       "\\item 59\n",
       "\\item 56\n",
       "\\item 57\n",
       "\\item 70\n",
       "\\item 61\n",
       "\\item 75\n",
       "\\item 79\n",
       "\\item 80\n",
       "\\item 77\n",
       "\\item 59\n",
       "\\item 73\n",
       "\\item 79\n",
       "\\item 67\n",
       "\\item 63\n",
       "\\item 128\n",
       "\\item 67\n",
       "\\item 55\n",
       "\\item 72\n",
       "\\item 70\n",
       "\\item 129\n",
       "\\item 59\n",
       "\\item 76\n",
       "\\item 69\n",
       "\\item 78\n",
       "\\item 74\n",
       "\\item 76\n",
       "\\item 63\n",
       "\\item 75\n",
       "\\item 64\n",
       "\\item 74\n",
       "\\item 70\n",
       "\\item 82\n",
       "\\item 79\n",
       "\\item 129\n",
       "\\item 69\n",
       "\\item 84\n",
       "\\item 63\n",
       "\\item 78\n",
       "\\item 61\n",
       "\\item 83\n",
       "\\item 63\n",
       "\\item 79\n",
       "\\item 69\n",
       "\\item 69\n",
       "\\item 76\n",
       "\\item 74\n",
       "\\item 72\n",
       "\\item 73\n",
       "\\item 63\n",
       "\\item 65\n",
       "\\end{enumerate*}\n"
      ],
      "text/markdown": [
       "**$observation** = 1. 72\n",
       "2. 82\n",
       "3. 77\n",
       "4. 80\n",
       "5. 69\n",
       "6. 65\n",
       "7. 80\n",
       "8. 72\n",
       "9. 61\n",
       "10. 48\n",
       "11. 78\n",
       "12. 75\n",
       "13. 67\n",
       "14. 62\n",
       "15. 81\n",
       "16. 60\n",
       "17. 60\n",
       "18. 83\n",
       "19. 76\n",
       "20. 57\n",
       "21. 57\n",
       "22. 67\n",
       "23. 70\n",
       "24. 75\n",
       "25. 73\n",
       "26. 72\n",
       "27. 74\n",
       "28. 59\n",
       "29. 61\n",
       "30. 74\n",
       "31. 50\n",
       "32. 73\n",
       "33. 80\n",
       "34. 76\n",
       "35. 56\n",
       "36. 71\n",
       "37. 81\n",
       "38. 78\n",
       "39. 61\n",
       "40. 70\n",
       "41. 82\n",
       "42. 76\n",
       "43. 63\n",
       "44. 64\n",
       "45. 80\n",
       "46. 50\n",
       "47. 76\n",
       "48. 77\n",
       "49. 84\n",
       "50. 66\n",
       "51. 59\n",
       "52. 56\n",
       "53. 57\n",
       "54. 70\n",
       "55. 61\n",
       "56. 75\n",
       "57. 79\n",
       "58. 80\n",
       "59. 77\n",
       "60. 59\n",
       "61. 73\n",
       "62. 79\n",
       "63. 67\n",
       "64. 63\n",
       "65. 128\n",
       "66. 67\n",
       "67. 55\n",
       "68. 72\n",
       "69. 70\n",
       "70. 129\n",
       "71. 59\n",
       "72. 76\n",
       "73. 69\n",
       "74. 78\n",
       "75. 74\n",
       "76. 76\n",
       "77. 63\n",
       "78. 75\n",
       "79. 64\n",
       "80. 74\n",
       "81. 70\n",
       "82. 82\n",
       "83. 79\n",
       "84. 129\n",
       "85. 69\n",
       "86. 84\n",
       "87. 63\n",
       "88. 78\n",
       "89. 61\n",
       "90. 83\n",
       "91. 63\n",
       "92. 79\n",
       "93. 69\n",
       "94. 69\n",
       "95. 76\n",
       "96. 74\n",
       "97. 72\n",
       "98. 73\n",
       "99. 63\n",
       "100. 65\n",
       "\n",
       "\n"
      ],
      "text/plain": [
       "$observation\n",
       "  [1]  72  82  77  80  69  65  80  72  61  48  78  75  67  62  81  60  60  83\n",
       " [19]  76  57  57  67  70  75  73  72  74  59  61  74  50  73  80  76  56  71\n",
       " [37]  81  78  61  70  82  76  63  64  80  50  76  77  84  66  59  56  57  70\n",
       " [55]  61  75  79  80  77  59  73  79  67  63 128  67  55  72  70 129  59  76\n",
       " [73]  69  78  74  76  63  75  64  74  70  82  79 129  69  84  63  78  61  83\n",
       " [91]  63  79  69  69  76  74  72  73  63  65\n"
      ]
     },
     "metadata": {},
     "output_type": "display_data"
    }
   ],
   "source": [
    "sim[2]"
   ]
  },
  {
   "cell_type": "code",
   "execution_count": 95,
   "metadata": {},
   "outputs": [],
   "source": [
    "a = c(1,2,3)"
   ]
  },
  {
   "cell_type": "code",
   "execution_count": 99,
   "metadata": {},
   "outputs": [
    {
     "data": {
      "text/html": [
       "<style>\n",
       ".list-inline {list-style: none; margin:0; padding: 0}\n",
       ".list-inline>li {display: inline-block}\n",
       ".list-inline>li:not(:last-child)::after {content: \"\\00b7\"; padding: 0 .5ex}\n",
       "</style>\n",
       "<ol class=list-inline><li>1</li><li>2</li><li>3</li></ol>\n"
      ],
      "text/latex": [
       "\\begin{enumerate*}\n",
       "\\item 1\n",
       "\\item 2\n",
       "\\item 3\n",
       "\\end{enumerate*}\n"
      ],
      "text/markdown": [
       "1. 1\n",
       "2. 2\n",
       "3. 3\n",
       "\n",
       "\n"
      ],
      "text/plain": [
       "[1] 1 2 3"
      ]
     },
     "metadata": {},
     "output_type": "display_data"
    }
   ],
   "source": [
    "a[1:3]"
   ]
  },
  {
   "cell_type": "code",
   "execution_count": 101,
   "metadata": {},
   "outputs": [
    {
     "ename": "ERROR",
     "evalue": "Error in hmm$emissionProbs[state, observation[1]]: subscript out of bounds\n",
     "output_type": "error",
     "traceback": [
      "Error in hmm$emissionProbs[state, observation[1]]: subscript out of bounds\nTraceback:\n",
      "1. forward(hmm, observation)"
     ]
    }
   ],
   "source": [
    "forward(hmm, observation)"
   ]
  },
  {
   "cell_type": "code",
   "execution_count": null,
   "metadata": {},
   "outputs": [],
   "source": []
  }
 ],
 "metadata": {
  "kernelspec": {
   "display_name": "R",
   "language": "R",
   "name": "ir"
  },
  "language_info": {
   "codemirror_mode": "r",
   "file_extension": ".r",
   "mimetype": "text/x-r-source",
   "name": "R",
   "pygments_lexer": "r",
   "version": "3.6.3"
  }
 },
 "nbformat": 4,
 "nbformat_minor": 4
}
